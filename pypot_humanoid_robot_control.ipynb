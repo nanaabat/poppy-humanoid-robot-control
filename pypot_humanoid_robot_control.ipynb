{
 "cells": [
  {
   "cell_type": "markdown",
   "metadata": {},
   "source": [
    "# Poppy Humanoid Robot Control\n",
    "\n",
    "Goal: To control the poppy_humanoid robot to dance\n"
   ]
  },
  {
   "cell_type": "code",
   "execution_count": 5,
   "metadata": {},
   "outputs": [],
   "source": [
    "#checking to see if everything has been installed\n",
    "\n",
    "from pypot.vrep import from_vrep\n",
    "from pypot.creatures import PoppyHumanoid"
   ]
  },
  {
   "cell_type": "code",
   "execution_count": 7,
   "metadata": {},
   "outputs": [],
   "source": [
    "#connecting this kernel to my simulator vrep\n",
    "\n",
    "from pypot.creatures import PoppyHumanoid\n",
    "\n",
    "poppy = PoppyHumanoid(simulator = 'vrep')"
   ]
  },
  {
   "cell_type": "code",
   "execution_count": 27,
   "metadata": {},
   "outputs": [],
   "source": [
    "# let us try and control our humanoid robot\n",
    "\n",
    "import time\n",
    "\n",
    "import math\n",
    "\n",
    "amp = 30\n",
    "freq = 0.5\n",
    "t0 = time.time()\n",
    "\n",
    "while True:\n",
    "    t =  time.time()\n",
    "    \n",
    "    #run for 10s\n",
    "    if t - t0 > 10:\n",
    "        break\n",
    "        \n",
    "    poppy.head_z.goal_position = amp * math.sin(2 * 3.14 * freq * t)\n",
    "    time.sleep(0.04)\n",
    "    \n",
    "    poppy.l_hip_z.goal_position = amp * math.sin(2 * 3.14 * freq * t)\n",
    "    time.sleep(0.04)\n",
    "    \n",
    "    poppy.l_shoulder_y.goal_position = amp * math.sin(2 * 3.14 * freq * t)\n",
    "    time.sleep(0.04)\n",
    "    \n",
    "    poppy.r_shoulder_y.goal_position = amp * math.sin(2 * 3.14 * freq * t)\n",
    "    time.sleep(0.04)\n",
    "    \n"
   ]
  },
  {
   "cell_type": "code",
   "execution_count": 26,
   "metadata": {},
   "outputs": [],
   "source": [
    "#to reset the simulation\n",
    "poppy.reset_simulation()"
   ]
  },
  {
   "cell_type": "code",
   "execution_count": null,
   "metadata": {},
   "outputs": [],
   "source": []
  }
 ],
 "metadata": {
  "kernelspec": {
   "display_name": "Python 3",
   "language": "python",
   "name": "python3"
  },
  "language_info": {
   "codemirror_mode": {
    "name": "ipython",
    "version": 3
   },
   "file_extension": ".py",
   "mimetype": "text/x-python",
   "name": "python",
   "nbconvert_exporter": "python",
   "pygments_lexer": "ipython3",
   "version": "3.7.3"
  }
 },
 "nbformat": 4,
 "nbformat_minor": 2
}
